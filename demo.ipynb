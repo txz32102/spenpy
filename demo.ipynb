{
 "cells": [
  {
   "cell_type": "code",
   "execution_count": null,
   "metadata": {},
   "outputs": [],
   "source": [
    "from spenpy.spen import spen\n",
    "from PIL import Image\n",
    "import matplotlib.pyplot as plt\n",
    "import torch\n",
    "import torchvision.transforms as T\n",
    "import torchvision.utils as vutils"
   ]
  },
  {
   "cell_type": "code",
   "execution_count": null,
   "metadata": {},
   "outputs": [],
   "source": [
    "path = \"spenpy/data/brain.png\"\n",
    "img = Image.open(path)\n",
    "to_tensor = T.ToTensor()\n",
    "img = to_tensor(img)[0] # our image is grayscale, so we take the first channel\n",
    "\n",
    "print(img.shape)"
   ]
  },
  {
   "cell_type": "code",
   "execution_count": null,
   "metadata": {},
   "outputs": [],
   "source": [
    "InvA, AFinal = spen().get_InvA() # (256, 256) (256, 256)\n",
    "\n",
    "final_rxyacq_ROFFT = spen().sim(img.unsqueeze(0)) # (1, 256, 256)\n",
    "phase_map = spen().get_phase_map(img.unsqueeze(0)) # (1, 128, 256)"
   ]
  },
  {
   "cell_type": "code",
   "execution_count": null,
   "metadata": {},
   "outputs": [],
   "source": [
    "plt.imshow(phase_map.abs()[0])"
   ]
  },
  {
   "cell_type": "code",
   "execution_count": null,
   "metadata": {},
   "outputs": [],
   "source": [
    "EvenDataROFFT = final_rxyacq_ROFFT[:, 1::2, :].clone() # (1, 128, 256)\n",
    "EvenDataROFFT = EvenDataROFFT * torch.exp(-1j *phase_map)\n",
    "FinalryxacqROFFTCorr = final_rxyacq_ROFFT.clone() # (1, 256, 256)\n",
    "FinalryxacqROFFTCorr[:, 1::2, :] = EvenDataROFFT"
   ]
  },
  {
   "cell_type": "code",
   "execution_count": null,
   "metadata": {},
   "outputs": [],
   "source": [
    "fig, axs = plt.subplots(1, 5, figsize=(20, 4))\n",
    "\n",
    "axs[0].imshow(img.numpy(), cmap='gray')\n",
    "axs[0].set_title(\"Original Image\")\n",
    "axs[0].axis(\"off\")\n",
    "\n",
    "axs[1].imshow(torch.abs(final_rxyacq_ROFFT)[0].numpy(), cmap='gray')\n",
    "axs[1].set_title(\"ROFFT Magnitude\")\n",
    "axs[1].axis(\"off\")\n",
    "\n",
    "axs[2].imshow(torch.abs(torch.matmul(InvA, final_rxyacq_ROFFT)[0]).numpy(), cmap='gray')\n",
    "axs[2].set_title(\"After InvA × ROFFT\")\n",
    "axs[2].axis(\"off\")\n",
    "\n",
    "axs[3].imshow(torch.abs(torch.matmul(InvA, FinalryxacqROFFTCorr)[0]).numpy(), cmap='gray')\n",
    "axs[3].set_title(\"After InvA × ROFFT Corr\")\n",
    "axs[3].axis(\"off\")\n",
    "\n",
    "axs[4].imshow(phase_map.abs()[0].numpy(), cmap='gray')\n",
    "axs[4].set_title(\"Phase Map Magnitude\")\n",
    "axs[4].axis(\"off\")\n",
    "\n",
    "plt.tight_layout()\n",
    "plt.show()"
   ]
  },
  {
   "cell_type": "code",
   "execution_count": null,
   "metadata": {},
   "outputs": [],
   "source": [
    "degraded_data = torch.matmul(AFinal, img.unsqueeze(0)*1j)\n",
    "\n",
    "blur_data = degraded_data.clone()\n",
    "blur_data[:, 1::2, :] = degraded_data[:, 1::2, :] * torch.exp(1j * phase_map)\n",
    "\n",
    "corr_data = blur_data\n",
    "corr_data[:, 1::2, :] = corr_data[:, 1::2, :] * torch.exp(-1j * phase_map)\n",
    "corr_data = torch.matmul(InvA, blur_data).clone()\n",
    "\n",
    "fig, axs = plt.subplots(1, 5, figsize=(20, 4))\n",
    "\n",
    "axs[0].imshow(img.numpy(), cmap='gray')\n",
    "axs[0].set_title(\"Original Image\")\n",
    "axs[0].axis(\"off\")\n",
    "\n",
    "axs[1].imshow(degraded_data[0].abs().numpy(), cmap='gray')\n",
    "axs[1].set_title(\"Degraded Data (AFinal × img·j)\")\n",
    "axs[1].axis(\"off\")\n",
    "\n",
    "axs[2].imshow(blur_data.abs()[0].numpy(), cmap='gray')\n",
    "axs[2].set_title(\"Blurred Data (Phase Applied)\")\n",
    "axs[2].axis(\"off\")\n",
    "\n",
    "axs[3].imshow(torch.abs(corr_data)[0].numpy(), cmap='gray')\n",
    "axs[3].set_title(\"Corrected Data (InvA × Blur)\")\n",
    "axs[3].axis(\"off\")\n",
    "\n",
    "axs[4].imshow(phase_map.abs()[0].numpy(), cmap='gray')\n",
    "axs[4].set_title(\"Phase Map Magnitude\")\n",
    "axs[4].axis(\"off\")\n",
    "\n",
    "plt.tight_layout()\n",
    "plt.show()\n"
   ]
  },
  {
   "cell_type": "code",
   "execution_count": null,
   "metadata": {},
   "outputs": [],
   "source": [
    "degraded_data = torch.matmul(AFinal, img.unsqueeze(0)*1j)\n",
    "\n",
    "# Stage 1: with phase\n",
    "degraded_data_with_phase = degraded_data.clone()\n",
    "degraded_data_with_phase[:, 1::2, :] *= torch.exp(1j * phase_map)\n",
    "\n",
    "\n",
    "recons_stage_1 = degraded_data_with_phase.clone()\n",
    "recons_stage_1 = torch.matmul(InvA, recons_stage_1)\n",
    "\n",
    "\n",
    "# Stage 2: phase correction in k-space\n",
    "corr_kspace = degraded_data_with_phase.clone()\n",
    "corr_kspace[:, 1::2, :] *= torch.exp(-1j * phase_map)\n",
    "recons_stage_2 = torch.matmul(InvA, corr_kspace)\n",
    "\n",
    "\n",
    "\n",
    "fig, axs = plt.subplots(1, 5, figsize=(20, 4))\n",
    "\n",
    "axs[0].imshow(img.numpy(), cmap='gray')\n",
    "axs[0].set_title(\"Original Image\")\n",
    "axs[0].axis(\"off\")\n",
    "\n",
    "axs[1].imshow(degraded_data_with_phase[0].abs().numpy(), cmap='gray')\n",
    "axs[1].set_title(\"Degraded Data with phase(AFinal × img·j)\")\n",
    "axs[1].axis(\"off\")\n",
    "\n",
    "axs[2].imshow(recons_stage_1[0].abs().numpy(), cmap='gray')\n",
    "axs[2].set_title(\"recons stage 1 (InvA × Degraded with phase)\")\n",
    "axs[2].axis(\"off\")\n",
    "\n",
    "axs[3].imshow(recons_stage_2[0].abs().numpy(), cmap='gray')\n",
    "axs[3].set_title(\"recons stage 2 corrected phase\")\n",
    "axs[3].axis(\"off\")\n",
    "\n",
    "axs[4].imshow(phase_map.abs()[0].numpy(), cmap='gray')\n",
    "axs[4].set_title(\"Phase Map Magnitude\")\n",
    "axs[4].axis(\"off\")\n",
    "\n",
    "plt.tight_layout()\n",
    "plt.show()\n"
   ]
  }
 ],
 "metadata": {
  "kernelspec": {
   "display_name": "main",
   "language": "python",
   "name": "python3"
  },
  "language_info": {
   "codemirror_mode": {
    "name": "ipython",
    "version": 3
   },
   "file_extension": ".py",
   "mimetype": "text/x-python",
   "name": "python",
   "nbconvert_exporter": "python",
   "pygments_lexer": "ipython3",
   "version": "3.11.10"
  }
 },
 "nbformat": 4,
 "nbformat_minor": 2
}
